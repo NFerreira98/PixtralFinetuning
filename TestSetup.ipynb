{
 "cells": [
  {
   "cell_type": "code",
   "execution_count": 3,
   "id": "ccecaadb-995a-407f-8e5e-42f66b6eaf11",
   "metadata": {},
   "outputs": [
    {
     "name": "stdout",
     "output_type": "stream",
     "text": [
      "Logged in as: NFerreira98\n"
     ]
    }
   ],
   "source": [
    "# Log in with Hugging Face\n",
    "from huggingface_hub import HfApi\n",
    "\n",
    "# Create an instance of the HfApi class\n",
    "api = HfApi()\n",
    "\n",
    "# Check if the token is saved\n",
    "\n",
    "user_info = api.whoami()\n",
    "if user_info:\n",
    "    print(f\"Logged in as: {user_info['name']}\")\n",
    "else:\n",
    "    # Hugging Face Login\n",
    "    \n",
    "    # Install the huggingface_hub library if not already installed\n",
    "    %pip install huggingface_hub\n",
    "    %pip install ipywidgets\n",
    "    # Import the login function from the huggingface_hub library\n",
    "    from huggingface_hub import login\n",
    "    \n",
    "    # Log in to Hugging Face account\n",
    "    login()"
   ]
  },
  {
   "cell_type": "code",
   "execution_count": null,
   "id": "458a0feb-b573-4f36-936e-47bbf150ae07",
   "metadata": {},
   "outputs": [],
   "source": [
    "%pip install --upgrade vllm\n",
    "    \n",
    "%pip install --upgrade mistral_common\n",
    "# Install Pytorch & other libraries\n",
    "%pip install \"torch==2.4.0\" tensorboard pillow\n",
    " \n",
    "# Install Hugging Face libraries\n",
    "%pip install  --upgrade \\\n",
    "  \"transformers==4.45.1\" \\\n",
    "  \"datasets==3.0.1\" \\\n",
    "  \"accelerate==0.34.2\" \\\n",
    "  \"evaluate==0.4.3\" \\\n",
    "  \"bitsandbytes==0.44.0\" \\\n",
    "  \"trl==0.11.1\" \\\n",
    "  \"peft==0.13.0\" \\\n",
    "  \"qwen-vl-utils\""
   ]
  },
  {
   "cell_type": "code",
   "execution_count": null,
   "id": "2489655c-8806-4c4f-90d2-85f626196785",
   "metadata": {},
   "outputs": [],
   "source": [
    "# Snippet from guide which only does inference (not used in finetuning process)\n",
    "\n",
    "from vllm import LLM\n",
    "from vllm.sampling_params import SamplingParams\n",
    "\n",
    "model_name = \"mistralai/Pixtral-12B-2409\"\n",
    "sampling_params = SamplingParams(max_tokens=8192)\n",
    "\n",
    "# Specify the device type (e.g., \"cuda\" for GPU, \"cpu\" for CPU)\n",
    "llm = LLM(model=model_name, tokenizer_mode=\"mistral\", max_model_len=70000, device=\"cpu\")\n",
    "\n",
    "prompt = \"Describe this image\"\n",
    "image_url = \"https://images.news18.com/ibnlive/uploads/2024/07/suryakumar-yadav-catch-1-2024-07-4a496281eb830a6fc7ab41e92a0d295e-3x2.jpg\"\n",
    "\n",
    "messages = [\n",
    "    {\n",
    "        \"role\": \"user\",\n",
    "        \"content\": [{\"type\": \"text\", \"text\": prompt}, {\"type\": \"image_url\", \"image_url\": {\"url\": image_url}}]\n",
    "    },\n",
    "]"
   ]
  },
  {
   "cell_type": "code",
   "execution_count": 8,
   "id": "4f395478-63ce-4815-a65f-c9d3f033893b",
   "metadata": {},
   "outputs": [
    {
     "data": {
      "application/vnd.jupyter.widget-view+json": {
       "model_id": "aeb57785f0024e24827e023277b5ef62",
       "version_major": 2,
       "version_minor": 0
      },
      "text/plain": [
       "Resolving data files:   0%|          | 0/128 [00:00<?, ?it/s]"
      ]
     },
     "metadata": {},
     "output_type": "display_data"
    },
    {
     "data": {
      "application/vnd.jupyter.widget-view+json": {
       "model_id": "860b83e0f89a445cb060692e3b9246a0",
       "version_major": 2,
       "version_minor": 0
      },
      "text/plain": [
       "Loading dataset shards:   0%|          | 0/18 [00:00<?, ?it/s]"
      ]
     },
     "metadata": {},
     "output_type": "display_data"
    },
    {
     "name": "stdout",
     "output_type": "stream",
     "text": [
      "[{'role': 'system', 'content': [{'type': 'text', 'text': 'You are a helpful assistant.'}]}, {'role': 'user', 'content': [{'type': 'text', 'text': 'Describe this image'}, {'type': 'image_url', 'image_url': {'url': 'https://cdn.shopify.com/s/files/1/0286/3900/2698/products/TVN_Huile-olive-infuse-et-s-227x300_e9a90ffd-b6d2-4118-95a1-29a5c7a05a49_800x.jpg?v=1616684087'}}]}, {'role': 'assistant', 'content': [{'type': 'text', 'text': 'Olive oil infused with Tuscany herbs'}]}]\n"
     ]
    }
   ],
   "source": [
    "# Data formatting\n",
    "from datasets import load_dataset\n",
    "\n",
    "# Define a system message.\n",
    "system_message = \"You are a helpful assistant.\"\n",
    "\n",
    "# Convert dataset to OAI messages\n",
    "def format_data(sample):\n",
    "    return {\n",
    "        \"messages\": [\n",
    "            {\n",
    "                \"role\": \"system\",\n",
    "                \"content\": [{\"type\": \"text\", \"text\": system_message}],\n",
    "            },\n",
    "            {\n",
    "                \"role\": \"user\",\n",
    "                \"content\": [\n",
    "                    {\n",
    "                        \"type\": \"text\",\n",
    "                        \"text\": \"Describe this image\",\n",
    "                    },\n",
    "                    {\n",
    "                        \"type\": \"image_url\",\n",
    "                        \"image_url\": {\"url\": sample[\"url\"]},\n",
    "                    },\n",
    "                ],\n",
    "            },\n",
    "            {\n",
    "                \"role\": \"assistant\",\n",
    "                \"content\": [{\"type\": \"text\", \"text\": sample[\"text\"]}],\n",
    "            },\n",
    "        ],\n",
    "    }\n",
    "\n",
    "# Load dataset from the hub\n",
    "dataset_id = \"kakaobrain/coyo-700m\"\n",
    "dataset = load_dataset(dataset_id, split=\"train[:5%]\")\n",
    "\n",
    "# Convert dataset to OAI messages\n",
    "dataset = [format_data(sample) for sample in dataset]\n",
    "\n",
    "print(dataset[0][\"messages\"])"
   ]
  },
  {
   "cell_type": "code",
   "execution_count": 9,
   "id": "01048cb0-d09b-4eef-8a38-8298b8e281a4",
   "metadata": {},
   "outputs": [
    {
     "data": {
      "application/vnd.jupyter.widget-view+json": {
       "model_id": "e1790d04de184173b5d1b8457b40c56b",
       "version_major": 2,
       "version_minor": 0
      },
      "text/plain": [
       "Resolving data files:   0%|          | 0/128 [00:00<?, ?it/s]"
      ]
     },
     "metadata": {},
     "output_type": "display_data"
    },
    {
     "data": {
      "application/vnd.jupyter.widget-view+json": {
       "model_id": "74feac5d77c9482c9d40feb290ad0360",
       "version_major": 2,
       "version_minor": 0
      },
      "text/plain": [
       "Loading dataset shards:   0%|          | 0/18 [00:00<?, ?it/s]"
      ]
     },
     "metadata": {},
     "output_type": "display_data"
    },
    {
     "ename": "KeyboardInterrupt",
     "evalue": "",
     "output_type": "error",
     "traceback": [
      "\u001b[0;31m---------------------------------------------------------------------------\u001b[0m",
      "\u001b[0;31mKeyboardInterrupt\u001b[0m                         Traceback (most recent call last)",
      "Cell \u001b[0;32mIn[9], line 32\u001b[0m\n\u001b[1;32m     29\u001b[0m sample_size \u001b[38;5;241m=\u001b[39m \u001b[38;5;28mint\u001b[39m(\u001b[38;5;241m0.05\u001b[39m \u001b[38;5;241m*\u001b[39m total_size)\n\u001b[1;32m     31\u001b[0m \u001b[38;5;66;03m# Get a random 5% sample using reservoir sampling\u001b[39;00m\n\u001b[0;32m---> 32\u001b[0m ds_sample \u001b[38;5;241m=\u001b[39m \u001b[43mreservoir_sampling\u001b[49m\u001b[43m(\u001b[49m\u001b[43mds\u001b[49m\u001b[43m,\u001b[49m\u001b[43m \u001b[49m\u001b[43msample_size\u001b[49m\u001b[43m)\u001b[49m\n\u001b[1;32m     34\u001b[0m \u001b[38;5;66;03m# Verify the size of the sampled dataset\u001b[39;00m\n\u001b[1;32m     35\u001b[0m \u001b[38;5;28mprint\u001b[39m(\u001b[38;5;124mf\u001b[39m\u001b[38;5;124m\"\u001b[39m\u001b[38;5;124mNumber of samples in the dataset: \u001b[39m\u001b[38;5;132;01m{\u001b[39;00m\u001b[38;5;28mlen\u001b[39m(ds_sample)\u001b[38;5;132;01m}\u001b[39;00m\u001b[38;5;124m\"\u001b[39m)\n",
      "Cell \u001b[0;32mIn[9], line 18\u001b[0m, in \u001b[0;36mreservoir_sampling\u001b[0;34m(stream, sample_size)\u001b[0m\n\u001b[1;32m     16\u001b[0m \u001b[38;5;28;01mdef\u001b[39;00m \u001b[38;5;21mreservoir_sampling\u001b[39m(stream, sample_size):\n\u001b[1;32m     17\u001b[0m     sample \u001b[38;5;241m=\u001b[39m []\n\u001b[0;32m---> 18\u001b[0m     \u001b[38;5;28;01mfor\u001b[39;00m i, item \u001b[38;5;129;01min\u001b[39;00m \u001b[38;5;28menumerate\u001b[39m(stream):\n\u001b[1;32m     19\u001b[0m         \u001b[38;5;28;01mif\u001b[39;00m i \u001b[38;5;241m<\u001b[39m sample_size:\n\u001b[1;32m     20\u001b[0m             sample\u001b[38;5;241m.\u001b[39mappend(item)\n",
      "File \u001b[0;32m~/Desktop/Projects/Pixtral-Finetuning/.venv/lib/python3.9/site-packages/datasets/arrow_dataset.py:2389\u001b[0m, in \u001b[0;36mDataset.__iter__\u001b[0;34m(self)\u001b[0m\n\u001b[1;32m   2387\u001b[0m \u001b[38;5;28;01mfor\u001b[39;00m pa_subtable \u001b[38;5;129;01min\u001b[39;00m table_iter(\u001b[38;5;28mself\u001b[39m\u001b[38;5;241m.\u001b[39mdata, batch_size\u001b[38;5;241m=\u001b[39mbatch_size):\n\u001b[1;32m   2388\u001b[0m     \u001b[38;5;28;01mfor\u001b[39;00m i \u001b[38;5;129;01min\u001b[39;00m \u001b[38;5;28mrange\u001b[39m(pa_subtable\u001b[38;5;241m.\u001b[39mnum_rows):\n\u001b[0;32m-> 2389\u001b[0m         pa_subtable_ex \u001b[38;5;241m=\u001b[39m \u001b[43mpa_subtable\u001b[49m\u001b[38;5;241;43m.\u001b[39;49m\u001b[43mslice\u001b[49m\u001b[43m(\u001b[49m\u001b[43mi\u001b[49m\u001b[43m,\u001b[49m\u001b[43m \u001b[49m\u001b[38;5;241;43m1\u001b[39;49m\u001b[43m)\u001b[49m\n\u001b[1;32m   2390\u001b[0m         formatted_output \u001b[38;5;241m=\u001b[39m format_table(\n\u001b[1;32m   2391\u001b[0m             pa_subtable_ex,\n\u001b[1;32m   2392\u001b[0m             \u001b[38;5;241m0\u001b[39m,\n\u001b[0;32m   (...)\u001b[0m\n\u001b[1;32m   2395\u001b[0m             output_all_columns\u001b[38;5;241m=\u001b[39m\u001b[38;5;28mself\u001b[39m\u001b[38;5;241m.\u001b[39m_output_all_columns,\n\u001b[1;32m   2396\u001b[0m         )\n\u001b[1;32m   2397\u001b[0m         \u001b[38;5;28;01myield\u001b[39;00m formatted_output\n",
      "\u001b[0;31mKeyboardInterrupt\u001b[0m: "
     ]
    }
   ],
   "source": [
    "import random\n",
    "from datasets import load_dataset\n",
    "from huggingface_hub import HfFolder\n",
    "from transformers import AutoProcessor, TrainingArguments, Trainer, AutoModelForImageTextToText\n",
    "from PIL import Image, UnidentifiedImageError\n",
    "import requests\n",
    "from io import BytesIO\n",
    "\n",
    "# Get the saved token\n",
    "token = HfFolder.get_token()\n",
    "\n",
    "# Load the dataset in streaming mode\n",
    "ds = load_dataset(\"kakaobrain/coyo-700m\", split='train[:5%]', token=token, cache_dir=\"./dataset_cache\")\n",
    "\n",
    "# Reservoir sampling to get a random 5% sample\n",
    "def reservoir_sampling(stream, sample_size):\n",
    "    sample = []\n",
    "    for i, item in enumerate(stream):\n",
    "        if i < sample_size:\n",
    "            sample.append(item)\n",
    "        else:\n",
    "            j = random.randint(0, i)\n",
    "            if j < sample_size:\n",
    "                sample[j] = item\n",
    "    return sample\n",
    "\n",
    "# Calculate the sample size (5% of the dataset)\n",
    "total_size = 37348613  # Total number of samples in the dataset\n",
    "sample_size = int(0.05 * total_size)\n",
    "\n",
    "# Get a random 5% sample using reservoir sampling\n",
    "ds_sample = reservoir_sampling(ds, sample_size)\n",
    "\n",
    "# Verify the size of the sampled dataset\n",
    "print(f\"Number of samples in the dataset: {len(ds_sample)}\")\n",
    "\n",
    "# Load the processor using Unsloth Oixtr\n",
    "processor = AutoProcessor.from_pretrained(\"unsloth/Pixtral-12B-2409-unsloth-bnb-4bit\")\n",
    "\n",
    "# Function to load an image from a URL with enhanced error handling\n",
    "def load_image_from_url(url):\n",
    "    try:\n",
    "        response = requests.get(url)\n",
    "        response.raise_for_status()  # Raise an HTTPError for bad responses\n",
    "        img = Image.open(BytesIO(response.content))\n",
    "        img.verify()  # Verify that it is, in fact, an image\n",
    "        return img\n",
    "    except (requests.exceptions.RequestException, UnidentifiedImageError) as e:\n",
    "        print(f\"Error loading image from {url}: {e}\")\n",
    "        return None  # Return None if the image could not be loaded\n",
    "\n",
    "# Define the preprocessing function\n",
    "def preprocess_function(examples):\n",
    "    inputs = [ex[\"text\"] for ex in examples]\n",
    "    image_urls = [ex[\"url\"] for ex in examples]\n",
    "    images = [load_image_from_url(url) for url in image_urls]\n",
    "    images = [img for img in images if img is not None]  # Filter out None values\n",
    "    model_inputs = processor(text=inputs, images=images, return_tensors=\"pt\", padding=True, truncation=True)\n",
    "    return model_inputs\n",
    "\n",
    "# Apply the preprocessing function to the sampled dataset\n",
    "tokenized_datasets = [preprocess_function(ds_sample)]\n",
    "\n",
    "# Load the model\n",
    "model = AutoModelForImageTextToText.from_pretrained(\"unsloth/Pixtral-12B-2409-unsloth-bnb-4bit\")\n",
    "\n",
    "# Define training arguments\n",
    "training_args = TrainingArguments(\n",
    "    output_dir=\"./results\",\n",
    "    evaluation_strategy=\"epoch\",\n",
    "    learning_rate=2e-5,\n",
    "    per_device_train_batch_size=8,\n",
    "    per_device_eval_batch_size=8,\n",
    "    num_train_epochs=3,\n",
    "    weight_decay=0.01,\n",
    ")\n",
    "\n",
    "# Define the Trainer\n",
    "trainer = Trainer(\n",
    "    model=model,\n",
    "    args=training_args,\n",
    "    train_dataset=tokenized_datasets,\n",
    "    eval_dataset=tokenized_datasets,\n",
    ")\n",
    "\n",
    "# Fine-tune the model\n",
    "trainer.train()\n",
    "\n",
    "# Save the fine-tuned model\n",
    "model.save_pretrained(\"./fine-tuned-pixtral\")\n",
    "processor.save_pretrained(\"./fine-tuned-pixtral\")"
   ]
  },
  {
   "cell_type": "code",
   "execution_count": null,
   "id": "a0ac55a9-3205-4c5e-90c8-ac082ead55ae",
   "metadata": {},
   "outputs": [],
   "source": []
  }
 ],
 "metadata": {
  "kernelspec": {
   "display_name": "Python 3 (ipykernel)",
   "language": "python",
   "name": "python3"
  },
  "language_info": {
   "codemirror_mode": {
    "name": "ipython",
    "version": 3
   },
   "file_extension": ".py",
   "mimetype": "text/x-python",
   "name": "python",
   "nbconvert_exporter": "python",
   "pygments_lexer": "ipython3",
   "version": "3.9.6"
  }
 },
 "nbformat": 4,
 "nbformat_minor": 5
}
